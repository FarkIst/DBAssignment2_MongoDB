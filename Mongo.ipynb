{
 "cells": [
  {
   "cell_type": "code",
   "execution_count": 1,
   "metadata": {},
   "outputs": [
    {
     "name": "stdout",
     "output_type": "stream",
     "text": [
      "Done\n"
     ]
    }
   ],
   "source": [
    "import pymongo\n",
    "import os\n",
    "import subprocess\n",
    "from pymongo import MongoClient\n",
    "\n",
    "\n",
    "client = MongoClient(\"mongodb://localhost:27017\")\n",
    "db = client.twitter\n",
    "tweets = db.tweets\n",
    "\n",
    "\n",
    "currentdir = os.getcwd()\n",
    "path = os.path.join(currentdir,\"training.1600000.processed.noemoticon.csv\")\n",
    "\n",
    "\n",
    "def initdb(file):\n",
    "        subprocess.run([\n",
    "            \"mongoimport\",\"--drop\",\"--db\",\"twitter\",\"--collection\",\"tweets\",\n",
    "            \"--type\",\"csv\",\"--file\",file, \"--fields\",\"polarity,id,date,query,user,text\"\n",
    "                       ])\n",
    "        \n",
    "initdb(path)\n",
    "\n",
    "print(\"Done\")"
   ]
  },
  {
   "cell_type": "code",
   "execution_count": 86,
   "metadata": {},
   "outputs": [
    {
     "name": "stdout",
     "output_type": "stream",
     "text": [
      "659774\n"
     ]
    }
   ],
   "source": [
    "## For getting the total amount of users by username\n",
    "\n",
    "import pprint\n",
    "def pp(obj):\n",
    "    pprint.pprint(obj)\n",
    "    \n",
    "def ppall(col):\n",
    "    for p in col:\n",
    "        pp(p)\n",
    "\n",
    "\n",
    "print(len(tweets.distinct(\"user\")))\n",
    "\n",
    "## TOTAL NUMBER IS: 659774"
   ]
  },
  {
   "cell_type": "code",
   "execution_count": 71,
   "metadata": {},
   "outputs": [
    {
     "name": "stdout",
     "output_type": "stream",
     "text": [
      "{'_id': 'lost_dog', 'links to others': 549}\n",
      "{'_id': 'tweetpet', 'links to others': 310}\n",
      "{'_id': 'VioletsCRUK', 'links to others': 251}\n",
      "{'_id': 'what_bugs_u', 'links to others': 246}\n",
      "{'_id': 'tsarnick', 'links to others': 245}\n",
      "{'_id': 'SallytheShizzle', 'links to others': 229}\n",
      "{'_id': 'mcraddictal', 'links to others': 217}\n",
      "{'_id': 'Karen230683', 'links to others': 216}\n",
      "{'_id': 'keza34', 'links to others': 211}\n",
      "{'_id': 'TraceyHewins', 'links to others': 202}\n"
     ]
    }
   ],
   "source": [
    "## Getting the top ten users that link the most to other users        \n",
    "ppall(tweets.aggregate([\n",
    "        {'$match':{'text':{'$regex':'@\\w+'}}},\n",
    "        {'$group':{'_id':'$user',\"links to others\":{'$sum':1}}},\n",
    "        {'$sort':{\"links to others\": -1}},\n",
    "        {'$limit': 10},\n",
    "    ]))"
   ]
  },
  {
   "cell_type": "code",
   "execution_count": 79,
   "metadata": {},
   "outputs": [],
   "source": [
    "## Most mentioned Twitter users\n",
    "##implement"
   ]
  },
  {
   "cell_type": "code",
   "execution_count": 74,
   "metadata": {},
   "outputs": [
    {
     "name": "stdout",
     "output_type": "stream",
     "text": [
      "{'_id': 'lost_dog', 'posts': 549}\n",
      "{'_id': 'webwoke', 'posts': 345}\n",
      "{'_id': 'tweetpet', 'posts': 310}\n",
      "{'_id': 'SallytheShizzle', 'posts': 281}\n",
      "{'_id': 'VioletsCRUK', 'posts': 279}\n",
      "{'_id': 'mcraddictal', 'posts': 276}\n",
      "{'_id': 'tsarnick', 'posts': 248}\n",
      "{'_id': 'what_bugs_u', 'posts': 246}\n",
      "{'_id': 'Karen230683', 'posts': 238}\n",
      "{'_id': 'DarkPiano', 'posts': 236}\n"
     ]
    }
   ],
   "source": [
    "##  Most active Twitter users (top ten)\n",
    "ppall(tweets.aggregate([\n",
    "    {\"$group\":{\"_id\":\"$user\", \"posts\":{\"$sum\":1}}},\n",
    "    {\"$sort\":{\"posts\":-1}},\n",
    "    {\"$limit\":10}\n",
    "]))"
   ]
  },
  {
   "cell_type": "code",
   "execution_count": 75,
   "metadata": {},
   "outputs": [
    {
     "name": "stdout",
     "output_type": "stream",
     "text": [
      "{'negative': [{'_id': 'lost_dog', 'count': 549},\n",
      "              {'_id': 'tweetpet', 'count': 310},\n",
      "              {'_id': 'webwoke', 'count': 264},\n",
      "              {'_id': 'mcraddictal', 'count': 210},\n",
      "              {'_id': 'wowlew', 'count': 210}],\n",
      " 'positive': [{'_id': 'what_bugs_u', 'count': 246},\n",
      "              {'_id': 'DarkPiano', 'count': 231},\n",
      "              {'_id': 'VioletsCRUK', 'count': 218},\n",
      "              {'_id': 'tsarnick', 'count': 212},\n",
      "              {'_id': 'keza34', 'count': 211}]}\n"
     ]
    }
   ],
   "source": [
    "ppall(tweets.aggregate([\n",
    "    {\"$facet\":{\"negative\":[{\"$match\":{\"polarity\":{\"$eq\":0}}},\n",
    "                          {\"$group\":{\"_id\":\"$user\", \"count\":{\"$sum\":1}}},\n",
    "                           {\"$sort\":{\"count\":-1}},\n",
    "                           {\"$limit\":5}\n",
    "                          ],\n",
    "               \"positive\":[{\"$match\":{\"polarity\":{\"$eq\":4}}},\n",
    "                          {\"$group\":{\"_id\":\"$user\", \"count\":{\"$sum\":1}}},\n",
    "                           {\"$sort\":{\"count\":-1}},\n",
    "                           {\"$limit\":5}\n",
    "                          ]\n",
    "              }}\n",
    "            \n",
    "]))"
   ]
  },
  {
   "cell_type": "code",
   "execution_count": null,
   "metadata": {},
   "outputs": [],
   "source": []
  }
 ],
 "metadata": {
  "kernelspec": {
   "display_name": "Python 3",
   "language": "python",
   "name": "python3"
  },
  "language_info": {
   "codemirror_mode": {
    "name": "ipython",
    "version": 3
   },
   "file_extension": ".py",
   "mimetype": "text/x-python",
   "name": "python",
   "nbconvert_exporter": "python",
   "pygments_lexer": "ipython3",
   "version": "3.7.0"
  }
 },
 "nbformat": 4,
 "nbformat_minor": 2
}
